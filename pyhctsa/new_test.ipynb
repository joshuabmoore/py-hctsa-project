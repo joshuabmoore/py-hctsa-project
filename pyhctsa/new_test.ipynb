{
 "cells": [
  {
   "cell_type": "code",
   "execution_count": 79,
   "metadata": {},
   "outputs": [],
   "source": [
    "from Operations.CO_CompareMinAMI import CO_CompareMinAMI\n",
    "from Operations.CO_AutoCorr import CO_AutoCorr\n",
    "from Operations.CO_TranslateShape import CO_TranslateShape\n",
    "from Operations.CP_wavelet_varch import CP_wavelet_varchg\n",
    "from Operations.EN_SampEn import EN_SampEn\n",
    "from Operations.EN_wentropy import EN_wentropy\n",
    "from PeripheryFunctions.BF_zscore import BF_zscore\n",
    "import numpy as np\n",
    "import warnings"
   ]
  },
  {
   "cell_type": "code",
   "execution_count": 123,
   "metadata": {},
   "outputs": [],
   "source": [
    "ts1 = np.loadtxt(\"ts1.txt\")\n",
    "ts2 = np.loadtxt(\"ts2.txt\")\n",
    "ts3 = np.loadtxt(\"ts3.txt\")\n",
    "ts4 = np.loadtxt(\"ts4.txt\")"
   ]
  },
  {
   "cell_type": "code",
   "execution_count": 14,
   "metadata": {},
   "outputs": [
    {
     "data": {
      "text/plain": [
       "np.float64(0.8835824848653626)"
      ]
     },
     "execution_count": 14,
     "metadata": {},
     "output_type": "execute_result"
    }
   ],
   "source": [
    "EN_wentropy(ts1, 'sure', 0.1)"
   ]
  },
  {
   "cell_type": "code",
   "execution_count": 5,
   "metadata": {},
   "outputs": [],
   "source": [
    "CP_wavelet_varchg(ts1)"
   ]
  },
  {
   "cell_type": "code",
   "execution_count": 132,
   "metadata": {},
   "outputs": [
    {
     "data": {
      "text/plain": [
       "np.float64(nan)"
      ]
     },
     "execution_count": 132,
     "metadata": {},
     "output_type": "execute_result"
    }
   ],
   "source": [
    "np.std(7, ddof=1)"
   ]
  },
  {
   "cell_type": "code",
   "execution_count": 23,
   "metadata": {},
   "outputs": [
    {
     "data": {
      "text/plain": [
       "array([ 4,  5,  6,  7,  8,  9, 10, 11, 12, 13, 14, 15, 16, 17, 18, 19, 20,\n",
       "       21, 22, 23, 24, 25, 26, 27, 28, 29, 30, 31, 32, 33, 34, 35, 36, 37,\n",
       "       38, 39, 40, 41, 42, 43, 44, 45, 46, 47, 48, 49, 50, 51, 52, 53, 54,\n",
       "       55, 56, 57, 58, 59, 60, 61, 62, 63, 64, 65, 66, 67, 68, 69, 70, 71,\n",
       "       72, 73, 74, 75, 76, 77, 78, 79, 80, 81, 82, 83, 84, 85, 86, 87, 88,\n",
       "       89, 90, 91, 92, 93, 94, 95, 96])"
      ]
     },
     "execution_count": 23,
     "metadata": {},
     "output_type": "execute_result"
    }
   ],
   "source": [
    "np.arange(1+3, 100-3)"
   ]
  },
  {
   "cell_type": "code",
   "execution_count": 82,
   "metadata": {},
   "outputs": [],
   "source": [
    "def CO_TranslateShape(y, shape = 'circle', d = 2, howToMove = 'pts'):\n",
    "    \"\"\"\n",
    "    \"\"\"\n",
    "    y = np.array(y, dtype=float)\n",
    "    N = len(y)\n",
    "\n",
    "    if y.ndim == 1:\n",
    "        y = y.reshape(-1, 1)\n",
    "    elif y.shape[1] > y.shape[0]:\n",
    "        y = y.T\n",
    "\n",
    "    # add a time index\n",
    "    ty = np.column_stack((np.arange(1, N+1), y[:, 0])) # has increasing integers as time in the first column\n",
    "    #-------------------------------------------------------------------------------\n",
    "    # Generate the statistics on the number of points inside the shape as it is\n",
    "    # translated across the time series\n",
    "    #-------------------------------------------------------------------------------\n",
    "    if howToMove == 'pts':\n",
    "\n",
    "        if shape == 'circle':\n",
    "\n",
    "            r = d # set radius\n",
    "            w = int(np.floor(r))\n",
    "            rnge = np.arange(1 + w, N - w + 1)\n",
    "            NN = len(rnge) # number of admissible points\n",
    "            np_counts = np.zeros(NN, dtype=int)\n",
    "\n",
    "            for i in range(NN):\n",
    "                idx = rnge[i]\n",
    "                start = idx - w - 1\n",
    "                end = idx + w\n",
    "                win = ty[start:end, :]\n",
    "                difwin = win - ty[idx - 1, :]\n",
    "                squared_dists = np.sum(difwin**2, axis=1)\n",
    "                np_counts[i] = np.sum(squared_dists <= r**2)\n",
    "\n",
    "        elif shape == 'rectangle':\n",
    "\n",
    "            w = d\n",
    "            rnge = np.arange(1 + w, N - w + 1)\n",
    "            NN = len(rnge)\n",
    "            np_counts = np.zeros(NN, dtype=int)\n",
    "\n",
    "            for i in range(NN):\n",
    "                idx = rnge[i]\n",
    "                start = (idx - w) - 1\n",
    "                end = (idx + w)\n",
    "                np_counts[i] = np.sum(\n",
    "                    np.abs(y[start:end, 0]) <= np.abs(y[i, 0])\n",
    "                )\n",
    "        else:\n",
    "            raise ValueError(f\"Unknown shape {shape}. Choose either 'circle' or 'rectangle'\")\n",
    "    else:\n",
    "        raise ValueError(f\"Unknown setting for 'howToMove' input: '{howToMove}'. Only option is currently 'pts'.\")\n",
    "\n",
    "    # compute stats on number of hits inside the shape\n",
    "    out = {}\n",
    "    out[\"max\"] = np.max(np_counts)\n",
    "    out[\"std\"] = np.std(np_counts, ddof=1)\n",
    "    out[\"mean\"] = np.mean(np_counts)\n",
    "    \n",
    "    # count the hits\n",
    "    vals, hits = np.unique_counts(np_counts)\n",
    "    max_val = np.argmax(hits)\n",
    "    out[\"npatmode\"] = hits[max_val]/NN\n",
    "    out[\"mode\"] = vals[max_val]\n",
    "\n",
    "    count_types = [\"ones\", \"twos\", \"threes\", \"fours\", \"fives\", \"sixes\", \"sevens\", \"eights\", \"nines\", \"tens\", \"elevens\"]\n",
    "    for i in range(1, 12):\n",
    "        if 2*w + 1 >= i:\n",
    "            out[f\"{count_types[i-1]}\"] = np.mean(np_counts == i)\n",
    "    \n",
    "\n",
    "    return out\n"
   ]
  },
  {
   "cell_type": "code",
   "execution_count": 90,
   "metadata": {},
   "outputs": [],
   "source": [
    "def SY_SlidingWindow3(y : list, windowStat : str = 'mean', acrossWinStat : str = 'std', numSeg : int = 5, incMove : int = 2) -> dict:\n",
    "\n",
    "    winLength = np.floor(len(y)/numSeg)\n",
    "    if winLength == 0:\n",
    "        warnings.warn(f\"Time-series of length {len(y)} is too short for {numSeg} windows\")\n",
    "        return np.nan\n",
    "    inc = np.floor(winLength/incMove) # increment to move at each step\n",
    "    # if incrment rounded down to zero, prop it up \n",
    "    if inc == 0:\n",
    "        inc = 1\n",
    "    \n",
    "    numSteps = int(np.floor((len(y)-winLength)/inc) + 1)\n",
    "    qs = np.zeros(numSteps)\n",
    "    \n",
    "    # convert a step index (stepInd) to a range of indices corresponding to that window\n",
    "    def get_window(stepInd: int):\n",
    "        start_idx = (stepInd) * inc\n",
    "        end_idx = (stepInd) * inc + winLength\n",
    "        return np.arange(start_idx, end_idx).astype(int)\n",
    "\n",
    "    if windowStat == 'mean':\n",
    "        for i in range(numSteps):\n",
    "            qs[i] = np.mean(y[get_window(i)])\n",
    "    elif windowStat == 'std':\n",
    "        for i in range(numSteps):\n",
    "            qs[i] = np.std(y[get_window(i)], ddof=1)\n",
    "    elif windowStat == 'ent':\n",
    "        warnings.warn(f\"{windowStat} not yet implemented\")\n",
    "    elif windowStat == 'apen':\n",
    "        for i in range(numSteps):\n",
    "            qs[i] = EN_ApEN(y[get_window(i)], 1, 0.2)\n",
    "    elif windowStat == 'sampen':\n",
    "        warnings.warn(f\"{windowStat} not yet implemented\")\n",
    "    elif windowStat == 'mom3':\n",
    "        for i in range(numSteps):\n",
    "            qs[i] = DN_Moments(y[get_window(i)], 3)\n",
    "    elif windowStat == 'mom4':\n",
    "        for i in range(numSteps):\n",
    "            qs[i] = DN_Moments(y[get_window(i)], 4)\n",
    "    elif windowStat == 'mom5':\n",
    "        for i in range(numSteps):\n",
    "            qs[i] = DN_Moments(y[get_window(i)], 5)\n",
    "    elif windowStat == 'AC1':\n",
    "        for i in range(numSteps):\n",
    "            qs[i] = CO_AutoCorr(y[get_window(i)], 1, 'Fourier')\n",
    "    elif windowStat == 'lillie':\n",
    "        warnings.warn(f\"{windowStat} not yet implemented\")\n",
    "    else:\n",
    "        raise ValueError(f\"Unknown statistic '{windowStat}'\")\n",
    "    \n",
    "\n",
    "    if acrossWinStat == 'std':\n",
    "        out = np.std(qs, ddof=1)/np.std(y, ddof=1)\n",
    "    \n",
    "    return out\n",
    "        \n"
   ]
  },
  {
   "cell_type": "code",
   "execution_count": 5,
   "metadata": {},
   "outputs": [
    {
     "data": {
      "text/plain": [
       "np.float64(0.34431508471691297)"
      ]
     },
     "execution_count": 5,
     "metadata": {},
     "output_type": "execute_result"
    }
   ],
   "source": [
    "SY_SlidingWindow(ts1, 'AC1', 'apen')"
   ]
  },
  {
   "cell_type": "code",
   "execution_count": 22,
   "metadata": {},
   "outputs": [],
   "source": [
    "def symbols_to_binary(symbols, n):\n",
    "    n_bits = np.ceil(np.log2(n)) if n > 1 else 1\n",
    "    binary_sequence = []\n",
    "    for s in symbols:\n",
    "        binary_str = format(s, f'0{n_bits}b')\n",
    "        binary_sequence.extend([int(bit) for bit in binary_str])\n",
    "    return np.array(binary_sequence)"
   ]
  },
  {
   "cell_type": "code",
   "execution_count": 90,
   "metadata": {},
   "outputs": [],
   "source": [
    "def lempel_ziv_complexity(data):\n",
    "    # Convert data to symbols\n",
    "    s = [int(np.floor(x)) + 1 for x in data]\n",
    "    bins = max(s) if s else 0  # bins is the maximum symbol value\n",
    "    n = len(s)\n",
    "    \n",
    "    if n == 0:\n",
    "        return 0.0\n",
    "    \n",
    "    c = 1  \n",
    "    ns = 1  \n",
    "    nq = 1  \n",
    "    k = 2  \n",
    "    \n",
    "    while k < n:\n",
    "        is_substring = False\n",
    "        current_sub = s[ns:ns + nq]\n",
    "        max_i = ns - nq\n",
    "        for i in range(0, max_i + 1):\n",
    "            # Check if the substring starting at i matches current_sub\n",
    "            if s[i:i + nq] == current_sub:\n",
    "                is_substring = True\n",
    "                break\n",
    "        \n",
    "        if is_substring:\n",
    "            nq += 1\n",
    "        else:\n",
    "            c += 1\n",
    "            ns += nq\n",
    "            nq = 1\n",
    "        \n",
    "        k += 1\n",
    "    \n",
    "    # Handle potential division by zero if bins is 1\n",
    "    if bins == 0:\n",
    "        return 0.0\n",
    "    try:\n",
    "        normalized = (c * np.log(n)) / (n * np.log(bins))\n",
    "    except ZeroDivisionError:\n",
    "        # If bins is 1, log(1) is 0, leading to division by zero\n",
    "        normalized = float('inf')\n",
    "    \n",
    "    return normalized"
   ]
  },
  {
   "cell_type": "code",
   "execution_count": 145,
   "metadata": {},
   "outputs": [],
   "source": [
    "def EN_LZcomplexity(x : list, n : int = 2, preProc : str = 'none'):\n",
    "    if preProc == 'diff':\n",
    "        x = BF_zscore(np.diff(x))\n",
    "    else:\n",
    "        warnings.warn(f\"Unknown preprocessing setting {preProc}\")\n",
    "    x = np.array(x).flatten()\n",
    "    nx = x.size\n",
    "    # Add small noise to handle ties\n",
    "    noise = np.finfo(float).eps * np.random.randn(nx)\n",
    "    x_noisy = x + noise\n",
    "    xi = np.argsort(x_noisy)\n",
    "    y = np.arange(1, nx + 1)\n",
    "    y = np.floor(y * (n / (nx + 1))).astype(int)\n",
    "    x_sorted_indices = xi\n",
    "    x[x_sorted_indices] = y\n",
    "\n",
    "    return lempel_ziv_complexity(x)"
   ]
  },
  {
   "cell_type": "code",
   "execution_count": 150,
   "metadata": {},
   "outputs": [
    {
     "name": "stderr",
     "output_type": "stream",
     "text": [
      "/var/folders/pt/9v0934pn6s1g4klqjbcz65p40000gp/T/ipykernel_34086/2992569531.py:5: UserWarning: Unknown preprocessing setting \n",
      "  warnings.warn(f\"Unknown preprocessing setting {preProc}\")\n"
     ]
    },
    {
     "data": {
      "text/plain": [
       "np.float64(0.12876089022660536)"
      ]
     },
     "execution_count": 150,
     "metadata": {},
     "output_type": "execute_result"
    }
   ],
   "source": [
    "EN_LZcomplexity(ts1, 5)"
   ]
  },
  {
   "cell_type": "code",
   "execution_count": null,
   "metadata": {},
   "outputs": [],
   "source": []
  }
 ],
 "metadata": {
  "kernelspec": {
   "display_name": "pyhctsa",
   "language": "python",
   "name": "python3"
  },
  "language_info": {
   "codemirror_mode": {
    "name": "ipython",
    "version": 3
   },
   "file_extension": ".py",
   "mimetype": "text/x-python",
   "name": "python",
   "nbconvert_exporter": "python",
   "pygments_lexer": "ipython3",
   "version": "3.12.8"
  }
 },
 "nbformat": 4,
 "nbformat_minor": 2
}
