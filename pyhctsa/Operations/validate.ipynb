{
 "cells": [
  {
   "cell_type": "code",
   "execution_count": 42,
   "id": "b187c804",
   "metadata": {},
   "outputs": [],
   "source": [
    "import numpy as np\n",
    "import pandas as pd\n",
    "import matlab.engine\n",
    "import yaml\n",
    "import time\n",
    "import importlib\n",
    "import pathlib\n",
    "import csv\n",
    "from tqdm import tqdm\n",
    "from loguru import logger\n",
    "from functools import partial, wraps\n",
    "from itertools import product\n",
    "import os"
   ]
  },
  {
   "cell_type": "code",
   "execution_count": 18,
   "id": "b001f65c",
   "metadata": {},
   "outputs": [],
   "source": [
    "def BF_zscore(input_data):\n",
    "    \"\"\"\n",
    "    Z-score the input data vector.\n",
    "\n",
    "    Parameters:\n",
    "    input_data (array-like): The input time series (or any vector).\n",
    "\n",
    "    Returns:\n",
    "    numpy.ndarray: The z-scored transformation of the input.\n",
    "\n",
    "    Raises:\n",
    "    ValueError: If input_data contains NaN values.\n",
    "    \"\"\"\n",
    "    # Convert input to numpy array\n",
    "    input_data = np.array(input_data)\n",
    "\n",
    "    # Check for NaNs\n",
    "    if np.isnan(input_data).any():\n",
    "        raise ValueError('input_data contains NaNs')\n",
    "\n",
    "    # Z-score twice to reduce numerical error\n",
    "    zscored_data = (input_data - np.mean(input_data)) / np.std(input_data, ddof=1)\n",
    "    zscored_data = (zscored_data - np.mean(zscored_data)) / np.std(zscored_data, ddof=1)\n",
    "\n",
    "    return zscored_data\n"
   ]
  },
  {
   "cell_type": "code",
   "execution_count": 40,
   "id": "f17680b6",
   "metadata": {},
   "outputs": [],
   "source": [
    "eng = matlab.engine.start_matlab()"
   ]
  },
  {
   "cell_type": "code",
   "execution_count": 43,
   "id": "2cbc9107",
   "metadata": {},
   "outputs": [],
   "source": [
    "proj_root = pathlib.Path(\"/Users/jmoo2880/Documents/hctsa\")\n",
    "eng.addpath(eng.genpath(str(proj_root)), nargout=0)"
   ]
  },
  {
   "cell_type": "code",
   "execution_count": 59,
   "id": "881487d5",
   "metadata": {},
   "outputs": [],
   "source": [
    "def zscore_decorator(func):\n",
    "    @wraps(func)\n",
    "    def wrapper(y, *args, **kwargs):\n",
    "        y = BF_zscore(y)\n",
    "        return func(y, *args, **kwargs)\n",
    "    return wrapper\n",
    "\n",
    "def range_constructor(loader, node):\n",
    "    start, end = loader.construct_sequence(node)\n",
    "    return list(range(start, end+1))\n",
    "yaml.add_constructor(\"!range\", range_constructor)"
   ]
  },
  {
   "cell_type": "code",
   "execution_count": 82,
   "id": "c63c6f98",
   "metadata": {},
   "outputs": [],
   "source": [
    "def load_yaml(file):\n",
    "    print(f\"Loading configuration file: {file.split('/')[-1]}\")\n",
    "    funcs = {}\n",
    "    with open(file) as f:\n",
    "        yf = yaml.load(f, Loader=yaml.FullLoader)\n",
    "\n",
    "    for module_name in yf:\n",
    "        print(f\"\\n*** Importing module {module_name} *** \\n\")\n",
    "        module = importlib.import_module(module_name)\n",
    "        for function_name in yf[module_name]:\n",
    "            # Get the function's configuration dictionary\n",
    "            function_config = yf[module_name][function_name]\n",
    "            # If no configs section exists or if it's empty, use a list with single empty dict\n",
    "            if ('configs' not in function_config or function_config.get('configs') is None or \n",
    "                function_config.get('configs') == []):\n",
    "                configs = [{}]\n",
    "            else:\n",
    "                configs = function_config.get('configs', [{}])\n",
    "\n",
    "            for params in configs:\n",
    "                # Handle the case where params is None\n",
    "                if params is None:\n",
    "                    params = {}\n",
    "                    \n",
    "                zscore_first = params.pop(\"zscore\", False)\n",
    "                param_keys, param_vals = zip(*params.items()) if params else ([], [])\n",
    "                \n",
    "                param_combinations = [dict(zip(param_keys, values)) \n",
    "                                   for values in product(*[v if isinstance(v, list) \n",
    "                                                        else [v] for v in param_vals])]\n",
    "                \n",
    "                # If no parameter combinations were generated, add empty dict\n",
    "                if not param_combinations:\n",
    "                    param_combinations = [{}]\n",
    "                \n",
    "                # create a function for each parameter combination\n",
    "                for param_set in param_combinations:\n",
    "                    feature_name = (f\"{module_name}_{function_name}_\" + \n",
    "                                  \"_\".join(f\"{v}\" for k, v in param_set.items())\n",
    "                                  if param_set else f\"{module_name}_{function_name}\")\n",
    "                    if not zscore_first:\n",
    "                        feature_name += \"_raw\"\n",
    "                    \n",
    "                    print(f\"Adding operation {feature_name} with params {param_set} \"\n",
    "                          f\"(Z-score={zscore_first})\")\n",
    "                    \n",
    "                    base_func = partial(getattr(module, function_name), **param_set)\n",
    "                    if zscore_first:\n",
    "                        base_func = zscore_decorator(base_func)\n",
    "                    \n",
    "                    # return the MATLAB callable corresponding to the python implementation for direct comparison\n",
    "                    # make sure to check whethe the data needs to be zscored when calling the MATLAB func, cannot be wrapped as it is not a python function\n",
    "                    # so needs to be done manually when calling the function.\n",
    "                    hctsa_name = function_config.get('hctsa_name')\n",
    "                    hctsa_callable = eval(f\"eng.{hctsa_name}\")\n",
    "\n",
    "                    funcs[feature_name] = {'callable': base_func, 'params': param_set, 'hctsa_name': function_config.get('hctsa_name'), 'matlab_callable': hctsa_callable, 'isZscore': zscore_first}\n",
    "                    \n",
    "    return funcs"
   ]
  },
  {
   "cell_type": "code",
   "execution_count": 83,
   "id": "c079244c",
   "metadata": {},
   "outputs": [
    {
     "name": "stdout",
     "output_type": "stream",
     "text": [
      "Loading configuration file: medical.yaml\n",
      "\n",
      "*** Importing module Medical *** \n",
      "\n",
      "Adding operation Medical_HRV_Classic with params {} (Z-score=True)\n",
      "Adding operation Medical_PNN_raw with params {} (Z-score=False)\n",
      "Adding operation Medical_PolVar_1.0_3 with params {'d': 1.0, 'D': 3} (Z-score=True)\n",
      "Adding operation Medical_PolVar_1.0_5 with params {'d': 1.0, 'D': 5} (Z-score=True)\n",
      "Adding operation Medical_PolVar_1.0_4 with params {'d': 1.0, 'D': 4} (Z-score=True)\n",
      "Adding operation Medical_PolVar_1.0_6 with params {'d': 1.0, 'D': 6} (Z-score=True)\n",
      "Adding operation Medical_PolVar_0.5_3 with params {'d': 0.5, 'D': 3} (Z-score=True)\n",
      "Adding operation Medical_PolVar_0.5_5 with params {'d': 0.5, 'D': 5} (Z-score=True)\n",
      "Adding operation Medical_PolVar_0.5_4 with params {'d': 0.5, 'D': 4} (Z-score=True)\n",
      "Adding operation Medical_PolVar_0.5_6 with params {'d': 0.5, 'D': 6} (Z-score=True)\n",
      "Adding operation Medical_PolVar_0.1_3 with params {'d': 0.1, 'D': 3} (Z-score=True)\n",
      "Adding operation Medical_PolVar_0.1_5 with params {'d': 0.1, 'D': 5} (Z-score=True)\n",
      "Adding operation Medical_PolVar_0.1_4 with params {'d': 0.1, 'D': 4} (Z-score=True)\n",
      "Adding operation Medical_PolVar_0.1_6 with params {'d': 0.1, 'D': 6} (Z-score=True)\n",
      "Adding operation Medical_RawHRVMeas_raw with params {} (Z-score=False)\n"
     ]
    }
   ],
   "source": [
    "funcs = load_yaml(\"/Users/jmoo2880/Documents/py-hctsa-project/pyhctsa/Configurations/medical.yaml\")"
   ]
  },
  {
   "cell_type": "code",
   "execution_count": 84,
   "id": "53bcbdc0",
   "metadata": {},
   "outputs": [
    {
     "data": {
      "text/plain": [
       "{'callable': <function functools.zscore_decorator.<locals>.wrapper(y: Union[list, numpy.ndarray]) -> dict>,\n",
       " 'params': {},\n",
       " 'hctsa_name': 'MD_hrv_classic',\n",
       " 'matlab_callable': <matlab.engine.matlabengine.MatlabFunc at 0x1268c5c70>,\n",
       " 'isZscore': True}"
      ]
     },
     "execution_count": 84,
     "metadata": {},
     "output_type": "execute_result"
    }
   ],
   "source": [
    "funcs['Medical_HRV_Classic']"
   ]
  },
  {
   "cell_type": "code",
   "execution_count": 73,
   "id": "402a694c",
   "metadata": {},
   "outputs": [
    {
     "data": {
      "text/plain": [
       "{'pnn5': 0.9980998099809981,\n",
       " 'pnn10': 0.9956995699569957,\n",
       " 'pnn20': 0.9903990399039904,\n",
       " 'pnn30': 0.9850985098509851,\n",
       " 'pnn40': 0.9807980798079808,\n",
       " 'lfhf': 0.44778742017875434,\n",
       " 'vlf': 1.0800176439782538,\n",
       " 'lf': 3.619672975964347,\n",
       " 'hf': 8.083462850562869,\n",
       " 'tri': 4.697040864255519,\n",
       " 'SD1': 1000.0955197791459,\n",
       " 'SD2': 999.9044710959541}"
      ]
     },
     "execution_count": 73,
     "metadata": {},
     "output_type": "execute_result"
    }
   ],
   "source": [
    "funcs['Medical_HRV_Classic']['hctsa_callable'](BF_zscore(matlab.double(empirical1000[2])))"
   ]
  },
  {
   "cell_type": "code",
   "execution_count": 74,
   "id": "cf5c4b9d",
   "metadata": {},
   "outputs": [
    {
     "data": {
      "text/plain": [
       "{'pnn5': np.float64(0.9980998099809981),\n",
       " 'pnn10': np.float64(0.9956995699569957),\n",
       " 'pnn20': np.float64(0.9903990399039904),\n",
       " 'pnn30': np.float64(0.9850985098509851),\n",
       " 'pnn40': np.float64(0.9807980798079808),\n",
       " 'lfhf': np.float64(0.44778742017875445),\n",
       " 'vlf': np.float64(1.0800176439782536),\n",
       " 'lf': np.float64(3.619672975964347),\n",
       " 'hf': np.float64(8.083462850562869),\n",
       " 'tri': np.float64(5.099439061703213),\n",
       " 'SD1': np.float64(1000.095519779147),\n",
       " 'SD2': np.float64(999.9044710959529)}"
      ]
     },
     "execution_count": 74,
     "metadata": {},
     "output_type": "execute_result"
    }
   ],
   "source": [
    "funcs['Medical_HRV_Classic']['callable']((empirical1000[2]))"
   ]
  },
  {
   "cell_type": "code",
   "execution_count": 75,
   "id": "2729edcc",
   "metadata": {},
   "outputs": [
    {
     "data": {
      "text/plain": [
       "{'Medical_HRV_Classic': {'callable': <function functools.zscore_decorator.<locals>.wrapper(y: Union[list, numpy.ndarray]) -> dict>,\n",
       "  'params': {},\n",
       "  'hctsa_name': 'MD_hrv_classic',\n",
       "  'hctsa_callable': <matlab.engine.matlabengine.MatlabFunc at 0x144283e30>},\n",
       " 'Medical_PNN_raw': {'callable': functools.partial(<function PNN at 0x1265f63e0>),\n",
       "  'params': {},\n",
       "  'hctsa_name': 'MD_pNN',\n",
       "  'hctsa_callable': <matlab.engine.matlabengine.MatlabFunc at 0x144280860>},\n",
       " 'Medical_PolVar_1.0_3': {'callable': <function functools.zscore_decorator.<locals>.wrapper(x: Union[list, numpy.ndarray], *, d: float = 1.0, D: int = 3) -> float>,\n",
       "  'params': {'d': 1.0, 'D': 3},\n",
       "  'hctsa_name': 'MD_polvar',\n",
       "  'hctsa_callable': <matlab.engine.matlabengine.MatlabFunc at 0x144283ef0>},\n",
       " 'Medical_PolVar_1.0_5': {'callable': <function functools.zscore_decorator.<locals>.wrapper(x: Union[list, numpy.ndarray], *, d: float = 1.0, D: int = 5) -> float>,\n",
       "  'params': {'d': 1.0, 'D': 5},\n",
       "  'hctsa_name': 'MD_polvar',\n",
       "  'hctsa_callable': <matlab.engine.matlabengine.MatlabFunc at 0x144280e90>},\n",
       " 'Medical_PolVar_1.0_4': {'callable': <function functools.zscore_decorator.<locals>.wrapper(x: Union[list, numpy.ndarray], *, d: float = 1.0, D: int = 4) -> float>,\n",
       "  'params': {'d': 1.0, 'D': 4},\n",
       "  'hctsa_name': 'MD_polvar',\n",
       "  'hctsa_callable': <matlab.engine.matlabengine.MatlabFunc at 0x144280e30>},\n",
       " 'Medical_PolVar_1.0_6': {'callable': <function functools.zscore_decorator.<locals>.wrapper(x: Union[list, numpy.ndarray], *, d: float = 1.0, D: int = 6) -> float>,\n",
       "  'params': {'d': 1.0, 'D': 6},\n",
       "  'hctsa_name': 'MD_polvar',\n",
       "  'hctsa_callable': <matlab.engine.matlabengine.MatlabFunc at 0x144282b70>},\n",
       " 'Medical_PolVar_0.5_3': {'callable': <function functools.zscore_decorator.<locals>.wrapper(x: Union[list, numpy.ndarray], *, d: float = 0.5, D: int = 3) -> float>,\n",
       "  'params': {'d': 0.5, 'D': 3},\n",
       "  'hctsa_name': 'MD_polvar',\n",
       "  'hctsa_callable': <matlab.engine.matlabengine.MatlabFunc at 0x144280b30>},\n",
       " 'Medical_PolVar_0.5_5': {'callable': <function functools.zscore_decorator.<locals>.wrapper(x: Union[list, numpy.ndarray], *, d: float = 0.5, D: int = 5) -> float>,\n",
       "  'params': {'d': 0.5, 'D': 5},\n",
       "  'hctsa_name': 'MD_polvar',\n",
       "  'hctsa_callable': <matlab.engine.matlabengine.MatlabFunc at 0x1442823c0>},\n",
       " 'Medical_PolVar_0.5_4': {'callable': <function functools.zscore_decorator.<locals>.wrapper(x: Union[list, numpy.ndarray], *, d: float = 0.5, D: int = 4) -> float>,\n",
       "  'params': {'d': 0.5, 'D': 4},\n",
       "  'hctsa_name': 'MD_polvar',\n",
       "  'hctsa_callable': <matlab.engine.matlabengine.MatlabFunc at 0x144283c50>},\n",
       " 'Medical_PolVar_0.5_6': {'callable': <function functools.zscore_decorator.<locals>.wrapper(x: Union[list, numpy.ndarray], *, d: float = 0.5, D: int = 6) -> float>,\n",
       "  'params': {'d': 0.5, 'D': 6},\n",
       "  'hctsa_name': 'MD_polvar',\n",
       "  'hctsa_callable': <matlab.engine.matlabengine.MatlabFunc at 0x144282d80>},\n",
       " 'Medical_PolVar_0.1_3': {'callable': <function functools.zscore_decorator.<locals>.wrapper(x: Union[list, numpy.ndarray], *, d: float = 0.1, D: int = 3) -> float>,\n",
       "  'params': {'d': 0.1, 'D': 3},\n",
       "  'hctsa_name': 'MD_polvar',\n",
       "  'hctsa_callable': <matlab.engine.matlabengine.MatlabFunc at 0x144281730>},\n",
       " 'Medical_PolVar_0.1_5': {'callable': <function functools.zscore_decorator.<locals>.wrapper(x: Union[list, numpy.ndarray], *, d: float = 0.1, D: int = 5) -> float>,\n",
       "  'params': {'d': 0.1, 'D': 5},\n",
       "  'hctsa_name': 'MD_polvar',\n",
       "  'hctsa_callable': <matlab.engine.matlabengine.MatlabFunc at 0x144283500>},\n",
       " 'Medical_PolVar_0.1_4': {'callable': <function functools.zscore_decorator.<locals>.wrapper(x: Union[list, numpy.ndarray], *, d: float = 0.1, D: int = 4) -> float>,\n",
       "  'params': {'d': 0.1, 'D': 4},\n",
       "  'hctsa_name': 'MD_polvar',\n",
       "  'hctsa_callable': <matlab.engine.matlabengine.MatlabFunc at 0x144280ec0>},\n",
       " 'Medical_PolVar_0.1_6': {'callable': <function functools.zscore_decorator.<locals>.wrapper(x: Union[list, numpy.ndarray], *, d: float = 0.1, D: int = 6) -> float>,\n",
       "  'params': {'d': 0.1, 'D': 6},\n",
       "  'hctsa_name': 'MD_polvar',\n",
       "  'hctsa_callable': <matlab.engine.matlabengine.MatlabFunc at 0x144282ed0>},\n",
       " 'Medical_RawHRVMeas_raw': {'callable': functools.partial(<function RawHRVMeas at 0x12062c860>),\n",
       "  'params': {},\n",
       "  'hctsa_name': 'MD_rawHRVmeas',\n",
       "  'hctsa_callable': <matlab.engine.matlabengine.MatlabFunc at 0x144280ce0>}}"
      ]
     },
     "execution_count": 75,
     "metadata": {},
     "output_type": "execute_result"
    }
   ],
   "source": [
    "funcs"
   ]
  },
  {
   "cell_type": "code",
   "execution_count": 89,
   "id": "a494540f",
   "metadata": {},
   "outputs": [],
   "source": [
    "def validate(yaml):\n",
    "    func_dict = load_yaml(yaml)\n",
    "    f = func_dict['Medical_HRV_Classic']\n",
    "    python_func = f['callable']\n",
    "    matlab_func = f['matlab_callable']\n",
    "    hctsa_name = f['hctsa_name']\n",
    "    isZscore = f['isZscore']\n",
    "    print(f\"Comparing to {hctsa_name}\")\n",
    "    data = empirical1000[2]\n",
    "    matlab_eval = matlab_func(BF_zscore(data)) if isZscore else matlab_func(data)\n",
    "    python_eval = python_func(data)\n",
    "    return {'matlab': matlab_eval, 'python': python_eval}"
   ]
  },
  {
   "cell_type": "code",
   "execution_count": 90,
   "id": "66d36833",
   "metadata": {},
   "outputs": [
    {
     "name": "stdout",
     "output_type": "stream",
     "text": [
      "Loading configuration file: medical.yaml\n",
      "\n",
      "*** Importing module Medical *** \n",
      "\n",
      "Adding operation Medical_HRV_Classic with params {} (Z-score=True)\n",
      "Adding operation Medical_PNN_raw with params {} (Z-score=False)\n",
      "Adding operation Medical_PolVar_1.0_3 with params {'d': 1.0, 'D': 3} (Z-score=True)\n",
      "Adding operation Medical_PolVar_1.0_5 with params {'d': 1.0, 'D': 5} (Z-score=True)\n",
      "Adding operation Medical_PolVar_1.0_4 with params {'d': 1.0, 'D': 4} (Z-score=True)\n",
      "Adding operation Medical_PolVar_1.0_6 with params {'d': 1.0, 'D': 6} (Z-score=True)\n",
      "Adding operation Medical_PolVar_0.5_3 with params {'d': 0.5, 'D': 3} (Z-score=True)\n",
      "Adding operation Medical_PolVar_0.5_5 with params {'d': 0.5, 'D': 5} (Z-score=True)\n",
      "Adding operation Medical_PolVar_0.5_4 with params {'d': 0.5, 'D': 4} (Z-score=True)\n",
      "Adding operation Medical_PolVar_0.5_6 with params {'d': 0.5, 'D': 6} (Z-score=True)\n",
      "Adding operation Medical_PolVar_0.1_3 with params {'d': 0.1, 'D': 3} (Z-score=True)\n",
      "Adding operation Medical_PolVar_0.1_5 with params {'d': 0.1, 'D': 5} (Z-score=True)\n",
      "Adding operation Medical_PolVar_0.1_4 with params {'d': 0.1, 'D': 4} (Z-score=True)\n",
      "Adding operation Medical_PolVar_0.1_6 with params {'d': 0.1, 'D': 6} (Z-score=True)\n",
      "Adding operation Medical_RawHRVMeas_raw with params {} (Z-score=False)\n",
      "Comparing to MD_hrv_classic\n"
     ]
    }
   ],
   "source": [
    "out = validate(\"/Users/jmoo2880/Documents/py-hctsa-project/pyhctsa/Configurations/medical.yaml\")"
   ]
  },
  {
   "cell_type": "code",
   "execution_count": 91,
   "id": "f17b2a81",
   "metadata": {},
   "outputs": [
    {
     "data": {
      "text/plain": [
       "{'matlab': {'pnn5': 0.9980998099809981,\n",
       "  'pnn10': 0.9956995699569957,\n",
       "  'pnn20': 0.9903990399039904,\n",
       "  'pnn30': 0.9850985098509851,\n",
       "  'pnn40': 0.9807980798079808,\n",
       "  'lfhf': 0.44778742017875434,\n",
       "  'vlf': 1.0800176439782538,\n",
       "  'lf': 3.619672975964347,\n",
       "  'hf': 8.083462850562869,\n",
       "  'tri': 4.697040864255519,\n",
       "  'SD1': 1000.0955197791459,\n",
       "  'SD2': 999.9044710959541},\n",
       " 'python': {'pnn5': np.float64(0.9980998099809981),\n",
       "  'pnn10': np.float64(0.9956995699569957),\n",
       "  'pnn20': np.float64(0.9903990399039904),\n",
       "  'pnn30': np.float64(0.9850985098509851),\n",
       "  'pnn40': np.float64(0.9807980798079808),\n",
       "  'lfhf': np.float64(0.44778742017875445),\n",
       "  'vlf': np.float64(1.0800176439782536),\n",
       "  'lf': np.float64(3.619672975964347),\n",
       "  'hf': np.float64(8.083462850562869),\n",
       "  'tri': np.float64(5.099439061703213),\n",
       "  'SD1': np.float64(1000.095519779147),\n",
       "  'SD2': np.float64(999.9044710959529)}}"
      ]
     },
     "execution_count": 91,
     "metadata": {},
     "output_type": "execute_result"
    }
   ],
   "source": [
    "out"
   ]
  },
  {
   "cell_type": "code",
   "execution_count": 44,
   "id": "29078388",
   "metadata": {},
   "outputs": [
    {
     "data": {
      "text/plain": [
       "'MD_polvar'"
      ]
     },
     "execution_count": 44,
     "metadata": {},
     "output_type": "execute_result"
    }
   ],
   "source": [
    "funcs['Medical_PolVar_0.5_4']['hctsa_name']"
   ]
  },
  {
   "cell_type": "code",
   "execution_count": 46,
   "id": "369981ea",
   "metadata": {},
   "outputs": [],
   "source": [
    "mlab_func = eval(f\"eng.{funcs['Medical_PolVar_0.5_4']['hctsa_name']}\")"
   ]
  },
  {
   "cell_type": "code",
   "execution_count": 50,
   "id": "5e2d8eef",
   "metadata": {},
   "outputs": [
    {
     "data": {
      "text/plain": [
       "0.33323332333233324"
      ]
     },
     "execution_count": 50,
     "metadata": {},
     "output_type": "execute_result"
    }
   ],
   "source": [
    "mlab_func(matlab.double(empirical1000[1]), matlab.double(1), matlab.double(3))"
   ]
  },
  {
   "cell_type": "code",
   "execution_count": null,
   "id": "dd62e7cf",
   "metadata": {},
   "outputs": [],
   "source": [
    "eng.MD_polvar(matlab.double(empirical1000[1]), matlab.double(1), matlab.double(3))"
   ]
  },
  {
   "cell_type": "code",
   "execution_count": 12,
   "id": "70ff129c",
   "metadata": {},
   "outputs": [],
   "source": [
    "empirical1000 = []\n",
    "with open(\"../../../empirical1000/hctsa_timeseries-data.csv\") as csvfile:\n",
    "    reader = csv.reader(csvfile, delimiter=',')\n",
    "    for row in reader:\n",
    "        # Convert each element from string to float (or int if appropriate)\n",
    "        try:\n",
    "            time_series = [float(value) for value in row if value != '']\n",
    "            empirical1000.append(time_series)\n",
    "        except ValueError as e:\n",
    "            print(f\"Skipping row due to conversion error: {row}\")\n",
    "            continue"
   ]
  },
  {
   "cell_type": "code",
   "execution_count": 22,
   "id": "e6846803",
   "metadata": {},
   "outputs": [
    {
     "name": "stdout",
     "output_type": "stream",
     "text": [
      "Computed 15 operations (40 features)\n",
      "Time taken: 0.19373850000556558 seconds\n"
     ]
    }
   ],
   "source": [
    "computed = {}\n",
    "feature_count = 0\n",
    "tstart = time.perf_counter()\n",
    "for (feature, func) in zip(funcs.keys(), funcs.values()):\n",
    "    computed[feature] = func(empirical1000[2])\n",
    "    if (isinstance(computed[feature], float) or isinstance(computed[feature], int)):\n",
    "        feature_count += 1\n",
    "    else:\n",
    "        feature_count += len(computed[feature]) \n",
    "telapsed = time.perf_counter() - tstart\n",
    "print(f\"Computed {len(computed)} operations ({feature_count} features)\")\n",
    "print(f\"Time taken: {telapsed} seconds\")"
   ]
  },
  {
   "cell_type": "code",
   "execution_count": 29,
   "id": "ff1b9318",
   "metadata": {},
   "outputs": [
    {
     "data": {
      "text/plain": [
       "<function functools.zscore_decorator.<locals>.wrapper(x: Union[list, numpy.ndarray], *, d: float = 1.0, D: int = 5) -> float>"
      ]
     },
     "execution_count": 29,
     "metadata": {},
     "output_type": "execute_result"
    }
   ],
   "source": [
    "funcs['Medical_PolVar_1.0_5']"
   ]
  },
  {
   "cell_type": "code",
   "execution_count": 23,
   "id": "f0a37a6a",
   "metadata": {},
   "outputs": [
    {
     "data": {
      "text/plain": [
       "{'Medical_HRV_Classic': {'pnn5': np.float64(0.9980998099809981),\n",
       "  'pnn10': np.float64(0.9956995699569957),\n",
       "  'pnn20': np.float64(0.9903990399039904),\n",
       "  'pnn30': np.float64(0.9850985098509851),\n",
       "  'pnn40': np.float64(0.9807980798079808),\n",
       "  'lfhf': np.float64(0.44778742017875445),\n",
       "  'vlf': np.float64(1.0800176439782536),\n",
       "  'lf': np.float64(3.619672975964347),\n",
       "  'hf': np.float64(8.083462850562869),\n",
       "  'tri': np.float64(5.099439061703213),\n",
       "  'SD1': np.float64(1000.095519779147),\n",
       "  'SD2': np.float64(999.9044710959529)},\n",
       " 'Medical_PNN_raw': {'pnn5': np.float64(0.9858985898589859),\n",
       "  'pnn10': np.float64(0.9693969396939695),\n",
       "  'pnn20': np.float64(0.9387938793879388),\n",
       "  'pnn30': np.float64(0.9091909190919092),\n",
       "  'pnn40': np.float64(0.8778877887788779),\n",
       "  'pnn50': np.float64(0.8471847184718472),\n",
       "  'pnn60': np.float64(0.815981598159816),\n",
       "  'pnn70': np.float64(0.784978497849785),\n",
       "  'pnn80': np.float64(0.756975697569757),\n",
       "  'pnn90': np.float64(0.7267726772677268),\n",
       "  'pnn100': np.float64(0.6972697269726973)},\n",
       " 'Medical_PolVar_1.0_3': 0.16071607160716073,\n",
       " 'Medical_PolVar_1.0_5': 0.041204120412041204,\n",
       " 'Medical_PolVar_1.0_4': 0.0812081208120812,\n",
       " 'Medical_PolVar_1.0_6': 0.023402340234023402,\n",
       " 'Medical_PolVar_0.5_3': 0.1933193319331933,\n",
       " 'Medical_PolVar_0.5_5': 0.07570757075707571,\n",
       " 'Medical_PolVar_0.5_4': 0.11571157115711571,\n",
       " 'Medical_PolVar_0.5_6': 0.052005200520052,\n",
       " 'Medical_PolVar_0.1_3': 0.2978297829782978,\n",
       " 'Medical_PolVar_0.1_5': 0.16791679167916793,\n",
       " 'Medical_PolVar_0.1_4': 0.21662166216621662,\n",
       " 'Medical_PolVar_0.1_6': 0.13611361136113612,\n",
       " 'Medical_RawHRVMeas_raw': {'tri10': np.float64(5.099439061703213),\n",
       "  'tri20': np.float64(9.871668311944719),\n",
       "  'trisqrt': np.float64(46.08294930875576),\n",
       "  'SD1': np.float64(174.79542294855844),\n",
       "  'SD2': np.float64(174.76203170270017)}}"
      ]
     },
     "execution_count": 23,
     "metadata": {},
     "output_type": "execute_result"
    }
   ],
   "source": [
    "computed"
   ]
  },
  {
   "cell_type": "code",
   "execution_count": null,
   "id": "0a2f36c9",
   "metadata": {},
   "outputs": [],
   "source": []
  }
 ],
 "metadata": {
  "kernelspec": {
   "display_name": "pyhctsa",
   "language": "python",
   "name": "python3"
  },
  "language_info": {
   "codemirror_mode": {
    "name": "ipython",
    "version": 3
   },
   "file_extension": ".py",
   "mimetype": "text/x-python",
   "name": "python",
   "nbconvert_exporter": "python",
   "pygments_lexer": "ipython3",
   "version": "3.12.8"
  }
 },
 "nbformat": 4,
 "nbformat_minor": 5
}
