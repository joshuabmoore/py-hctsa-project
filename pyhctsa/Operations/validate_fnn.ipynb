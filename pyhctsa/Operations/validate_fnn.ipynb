{
 "cells": [
  {
   "cell_type": "code",
   "execution_count": 1,
   "id": "4190fad9",
   "metadata": {},
   "outputs": [],
   "source": [
    "import numpy as np\n",
    "import pandas as pd\n",
    "import matlab.engine\n",
    "import yaml\n",
    "import time\n",
    "import nolitsa\n",
    "import importlib\n",
    "import pathlib\n",
    "import matplotlib.pyplot as plt\n",
    "import csv\n",
    "from tqdm import tqdm\n",
    "from scipy.stats import pearsonr\n",
    "from loguru import logger\n",
    "from Entropy import ApproximateEntropy\n",
    "from functools import partial, wraps\n",
    "from itertools import product\n",
    "import os\n",
    "from typing import Union\n",
    "from numbers import Number\n",
    "from utilities import ZScore"
   ]
  },
  {
   "cell_type": "code",
   "execution_count": 12,
   "id": "b0172838",
   "metadata": {},
   "outputs": [
    {
     "data": {
      "text/plain": [
       "<module 'Nonlinear' from '/Users/jmoo2880/Documents/py-hctsa-project/pyhctsa/Operations/Nonlinear.py'>"
      ]
     },
     "execution_count": 12,
     "metadata": {},
     "output_type": "execute_result"
    }
   ],
   "source": [
    "import importlib\n",
    "import Nonlinear\n",
    "importlib.reload(Nonlinear)"
   ]
  },
  {
   "cell_type": "code",
   "execution_count": 3,
   "id": "4d61e85a",
   "metadata": {},
   "outputs": [],
   "source": [
    "def compare_outputs(outputs, exclude_keys=None):\n",
    "    \"\"\"\n",
    "    Compare MATLAB and Python feature outputs, computing relative errors\n",
    "    and Pearson correlations.\n",
    "\n",
    "    Parameters\n",
    "    ----------\n",
    "    outputs : dict\n",
    "        Nested dictionary of feature values with structure:\n",
    "        {\n",
    "            feature_name: {\n",
    "                ts_id: {\n",
    "                    'matlab': scalar_or_dict,\n",
    "                    'python': scalar_or_dict\n",
    "                }\n",
    "            }\n",
    "        }\n",
    "    exclude_keys : set or list, optional\n",
    "        Set or list of keys (feature names or feature.subkey) to exclude from comparison.\n",
    "\n",
    "    Returns\n",
    "    -------\n",
    "    results : dict\n",
    "        Dictionary mapping feature (or subfeature) names to correlation and stats:\n",
    "        {\n",
    "            'feature.subkey': {\n",
    "                'r': float,\n",
    "                'pval': float,\n",
    "                'res_py': ndarray,\n",
    "                'res_matlab': ndarray,\n",
    "                'max_rel_err': float\n",
    "            }\n",
    "        }\n",
    "    \"\"\"\n",
    "    if exclude_keys is None:\n",
    "        exclude_keys = set()\n",
    "    else:\n",
    "        exclude_keys = set(exclude_keys)\n",
    "\n",
    "    flat = {}\n",
    "    for feat, ts_dict in outputs.items():\n",
    "        for ts, run in ts_dict.items():\n",
    "            ml = run['matlab']\n",
    "            py = run['python']\n",
    "            if isinstance(ml, dict) and isinstance(py, dict):\n",
    "                for k, mlv in ml.items():\n",
    "                    slot = f\"{feat}.{k}\"\n",
    "                    if slot in exclude_keys or k not in py:\n",
    "                        continue\n",
    "                    pyv = py[k]\n",
    "                    flat.setdefault(slot, {})[ts] = (mlv, pyv)\n",
    "            elif isinstance(ml, Number) and isinstance(py, Number):\n",
    "                if feat in exclude_keys:\n",
    "                    continue\n",
    "                flat.setdefault(feat, {})[ts] = (ml, py)\n",
    "            else:\n",
    "                raise ValueError(f\"Feature {feat}@{ts} is neither both scalars nor both dicts.\")\n",
    "\n",
    "    results = {}\n",
    "    for slot, tsmap in flat.items():\n",
    "        ml_vals, py_vals = [], []\n",
    "        rel_errors = []\n",
    "\n",
    "        for ts, (mlv, pyv) in tsmap.items():\n",
    "            ml_vals.append(mlv)\n",
    "            py_vals.append(pyv)\n",
    "\n",
    "            both_finite = np.isfinite(mlv) and np.isfinite(pyv)\n",
    "            both_nan = np.isnan(mlv) and np.isnan(pyv)\n",
    "            both_posinf = (mlv == np.inf) and (pyv == np.inf)\n",
    "            both_neginf = (mlv == -np.inf) and (pyv == -np.inf)\n",
    "\n",
    "            if both_finite:\n",
    "                if mlv == 0:\n",
    "                    rel_err = np.nan\n",
    "                else:\n",
    "                    rel_err = abs(mlv - pyv) / abs(mlv) * 100\n",
    "                    rel_errors.append(rel_err)\n",
    "                print(f\"[{slot} | ts={ts}]  RelErr% = {rel_err:.2f}\")\n",
    "            elif both_nan or both_posinf or both_neginf:\n",
    "                print(f\"[{slot} | ts={ts}]  RelErr% = MATCH (both non-finite)\")\n",
    "            else:\n",
    "                print(f\"[{slot} | ts={ts}]  RelErr% = NaN (mismatch in finiteness)\")\n",
    "\n",
    "        ml_arr = np.array(ml_vals, dtype=float)\n",
    "        py_arr = np.array(py_vals, dtype=float)\n",
    "        finite_mask = np.isfinite(ml_arr) & np.isfinite(py_arr)\n",
    "\n",
    "        if finite_mask.sum() > 1 and ml_arr[finite_mask].std() and py_arr[finite_mask].std():\n",
    "            r, p = pearsonr(ml_arr[finite_mask], py_arr[finite_mask])\n",
    "        else:\n",
    "            r, p = np.nan, np.nan\n",
    "\n",
    "        max_rel_err = np.nanmax(rel_errors) if rel_errors else np.nan\n",
    "\n",
    "        results[slot] = {\n",
    "            'r': r,\n",
    "            'pval': p,\n",
    "            'res_py': py_arr,\n",
    "            'res_matlab': ml_arr,\n",
    "            'max_rel_err': max_rel_err\n",
    "        }\n",
    "\n",
    "    return results"
   ]
  },
  {
   "cell_type": "code",
   "execution_count": 4,
   "id": "d226ed7a",
   "metadata": {},
   "outputs": [],
   "source": [
    "empirical1000 = []\n",
    "with open(\"../../../empirical1000/hctsa_timeseries-data.csv\") as csvfile:\n",
    "    reader = csv.reader(csvfile, delimiter=',')\n",
    "    for row in reader:\n",
    "        # Convert each element from string to float (or int if appropriate)\n",
    "        try:\n",
    "            time_series = [float(value) for value in row if value != '']\n",
    "            empirical1000.append(time_series)\n",
    "        except ValueError as e:\n",
    "            print(f\"Skipping row due to conversion error: {row}\")\n",
    "            continue"
   ]
  },
  {
   "cell_type": "code",
   "execution_count": 5,
   "id": "e106a440",
   "metadata": {},
   "outputs": [],
   "source": [
    "def load_yaml(file):\n",
    "    print(f\"Loading configuration file: {file.split('/')[-1]}\")\n",
    "    funcs = {}\n",
    "    with open(file) as f:\n",
    "        yf = yaml.load(f, Loader=yaml.FullLoader)\n",
    "\n",
    "    for module_name in yf:\n",
    "        print(f\"\\n*** Importing module {module_name} *** \\n\")\n",
    "        module = importlib.import_module(module_name)\n",
    "        for function_name in yf[module_name]:\n",
    "            # Get the function's configuration dictionary\n",
    "            function_config = yf[module_name][function_name]\n",
    "            # If no configs section exists or if it's empty, use a list with single empty dict\n",
    "            if ('configs' not in function_config or function_config.get('configs') is None or \n",
    "                function_config.get('configs') == []):\n",
    "                configs = [{}]\n",
    "            else:\n",
    "                configs = function_config.get('configs', [{}])\n",
    "\n",
    "            for params in configs:\n",
    "                # Handle the case where params is None\n",
    "                if params is None:\n",
    "                    params = {}\n",
    "                    \n",
    "                zscore_first = params.pop(\"zscore\", False)\n",
    "                param_keys, param_vals = zip(*params.items()) if params else ([], [])\n",
    "                \n",
    "                param_combinations = [dict(zip(param_keys, values)) \n",
    "                                   for values in product(*[v if isinstance(v, list) \n",
    "                                                        else [v] for v in param_vals])]\n",
    "                \n",
    "                # If no parameter combinations were generated, add empty dict\n",
    "                if not param_combinations:\n",
    "                    param_combinations = [{}]\n",
    "                \n",
    "                # create a function for each parameter combination\n",
    "                for param_set in param_combinations:\n",
    "                    feature_name = (f\"{module_name}_{function_name}_\" + \n",
    "                                  \"_\".join(f\"{v}\" for k, v in param_set.items())\n",
    "                                  if param_set else f\"{module_name}_{function_name}\")\n",
    "                    if not zscore_first:\n",
    "                        feature_name += \"_raw\"\n",
    "                    \n",
    "                    print(f\"Adding operation {feature_name} with params {param_set} \"\n",
    "                          f\"(Z-score={zscore_first})\")\n",
    "                    \n",
    "                    base_func = partial(getattr(module, function_name), **param_set)\n",
    "                    if zscore_first:\n",
    "                        base_func = zscore_decorator(base_func)\n",
    "                    \n",
    "                    # return the MATLAB callable corresponding to the python implementation for direct comparison\n",
    "                    # make sure to check whethe the data needs to be zscored when calling the MATLAB func, cannot be wrapped as it is not a python function\n",
    "                    # so needs to be done manually when calling the function.\n",
    "                    hctsa_name = function_config.get('hctsa_name')\n",
    "                    hctsa_callable = eval(f\"eng.{hctsa_name}\")\n",
    "\n",
    "                    # keep ordered args only for testing YAML otherwise bloats\n",
    "                    funcs[feature_name] = {'callable': base_func, 'params': param_set, 'hctsa_name': function_config.get('hctsa_name'), \n",
    "                                           'matlab_callable': hctsa_callable, 'isZscore': zscore_first, 'ordered_args': function_config.get('ordered_args')}\n",
    "                    \n",
    "    return funcs"
   ]
  },
  {
   "cell_type": "code",
   "execution_count": null,
   "id": "855fdc46",
   "metadata": {},
   "outputs": [],
   "source": [
    "def eval_comparison(yaml, data):\n",
    "    func_dict = load_yaml(yaml)\n",
    "    func_res = dict()\n",
    "    for func in func_dict:\n",
    "        print(f\"Evalutating {func}\")\n",
    "        f = func_dict[func]\n",
    "        python_func = f['callable']\n",
    "        matlab_func = f['matlab_callable']\n",
    "        hctsa_name = f['hctsa_name']\n",
    "        isZscore = f['isZscore']\n",
    "        params = f['params']\n",
    "        ordered_args = []\n",
    "        if params:\n",
    "            order = f['ordered_args']\n",
    "            ordered_args = [params[k] for k in order]\n",
    "            \n",
    "        print(f\"Comparing to {hctsa_name}\")\n",
    "        res = dict()\n",
    "        for i in range(len(data)):\n",
    "            x = np.array(data[i]).reshape(-1, 1)\n",
    "            matlab_eval = matlab_func(ZScore(matlab.double(x)), *ordered_args) if isZscore else matlab_func(matlab.double(x), matlab.double(ordered_args[0]))\n",
    "            python_eval = python_func(x)\n",
    "            res[i] = {'matlab': matlab_eval, 'python': python_eval}\n",
    "        func_res[func] = res\n",
    "    return func_res"
   ]
  },
  {
   "cell_type": "code",
   "execution_count": 7,
   "id": "eaca28e9",
   "metadata": {},
   "outputs": [],
   "source": [
    "eng = matlab.engine.start_matlab()"
   ]
  },
  {
   "cell_type": "code",
   "execution_count": 8,
   "id": "3d627cda",
   "metadata": {},
   "outputs": [],
   "source": [
    "proj_root = pathlib.Path(\"/Users/jmoo2880/Documents/hctsa\")\n",
    "eng.addpath(eng.genpath(str(proj_root)), nargout=0)\n",
    "def zscore_decorator(func):\n",
    "    @wraps(func)\n",
    "    def wrapper(y, *args, **kwargs):\n",
    "        y = ZScore(y)\n",
    "        return func(y, *args, **kwargs)\n",
    "    return wrapper\n",
    "\n",
    "def range_constructor(loader, node):\n",
    "    start, end = loader.construct_sequence(node)\n",
    "    return list(range(start, end+1))\n",
    "yaml.add_constructor(\"!range\", range_constructor)"
   ]
  },
  {
   "cell_type": "code",
   "execution_count": 35,
   "id": "a686abde",
   "metadata": {},
   "outputs": [
    {
     "name": "stdout",
     "output_type": "stream",
     "text": [
      "Loading configuration file: nonlinear.yaml\n",
      "\n",
      "*** Importing module Nonlinear *** \n",
      "\n",
      "Adding operation Nonlinear_FNN_[1, 2, 3, 4, 5, 6, 7, 8, 9, 10, 11]_1_5.0_1 with params {'de': [1, 2, 3, 4, 5, 6, 7, 8, 9, 10, 11], 'tau': 1, 'th': 5.0, 'kth': 1} (Z-score=True)\n"
     ]
    }
   ],
   "source": [
    "funcs = load_yaml(\"/Users/jmoo2880/Documents/py-hctsa-project/pyhctsa/Configurations/nonlinear.yaml\")"
   ]
  },
  {
   "cell_type": "code",
   "execution_count": 18,
   "id": "b4623269",
   "metadata": {},
   "outputs": [
    {
     "name": "stdout",
     "output_type": "stream",
     "text": [
      "Loading configuration file: nonlinear.yaml\n",
      "\n",
      "*** Importing module Nonlinear *** \n",
      "\n",
      "Adding operation Nonlinear_FNN_5.0_1 with params {'th': 5.0, 'kth': 1} (Z-score=True)\n",
      "Evalutating Nonlinear_FNN_5.0_1\n",
      "Comparing to NL_MS_fnn\n"
     ]
    }
   ],
   "source": [
    "fdfa_res = eval_comparison(\"/Users/jmoo2880/Documents/py-hctsa-project/pyhctsa/Configurations/nonlinear.yaml\", empirical1000[1:5])"
   ]
  },
  {
   "cell_type": "code",
   "execution_count": 25,
   "id": "4fcf02c8",
   "metadata": {},
   "outputs": [
    {
     "data": {
      "text/plain": [
       "{'pfnn_1': 0.9994345170775842,\n",
       " 'pfnn_2': 0.9356871374274855,\n",
       " 'pfnn_3': 0.7167150145043513,\n",
       " 'pfnn_4': 0.4610844337735094,\n",
       " 'pfnn_5': 0.2337168584292146,\n",
       " 'pfnn_6': 0.10036021612967781,\n",
       " 'pfnn_7': 0.039727809466626636,\n",
       " 'pfnn_8': 0.009807846277021618,\n",
       " 'pfnn_9': 0.0028025222700430387,\n",
       " 'pfnn_10': 0.0004004004004004004,\n",
       " 'meanpfnn': 0.3499736755755915,\n",
       " 'stdpfnn': 0.40030843028836943,\n",
       " 'firstunder02': 6.0,\n",
       " 'firstunder01': 7.0,\n",
       " 'firstunder005': 7.0,\n",
       " 'firstunder002': 8.0,\n",
       " 'firstunder001': 8.0,\n",
       " 'max1stepchange': 0.2556305807308419}"
      ]
     },
     "execution_count": 25,
     "metadata": {},
     "output_type": "execute_result"
    }
   ],
   "source": [
    "eng.NL_MS_fnn(ZScore(matlab.double(empirical1000[0])), matlab.double(list(range(1, 11))), 1, 5, 1)"
   ]
  },
  {
   "cell_type": "code",
   "execution_count": 36,
   "id": "68278f6b",
   "metadata": {},
   "outputs": [
    {
     "data": {
      "text/plain": [
       "{'pfnn_1': np.float64(0.9995476136620675),\n",
       " 'pfnn_2': np.float64(0.9356871374274855),\n",
       " 'pfnn_3': np.float64(0.7167150145043513),\n",
       " 'pfnn_4': np.float64(0.4610844337735094),\n",
       " 'pfnn_5': np.float64(0.2337168584292146),\n",
       " 'pfnn_6': np.float64(0.10036021612967781),\n",
       " 'pfnn_7': np.float64(0.039727809466626636),\n",
       " 'pfnn_8': np.float64(0.009807846277021618),\n",
       " 'pfnn_9': np.float64(0.0028025222700430387),\n",
       " 'pfnn_10': np.float64(0.0004004004004004004),\n",
       " 'pfnn_11': np.float64(0.0004004404845329863),\n",
       " 'meanpfnn': np.float64(0.3182045720749937),\n",
       " 'stdpfnn': np.float64(0.39414056908907785),\n",
       " 'firstunder02': 6,\n",
       " 'firstunder01': 7,\n",
       " 'firstunder005': 7,\n",
       " 'firstunder002': 8,\n",
       " 'firstunder001': 8,\n",
       " 'max1stepchange': np.float64(0.2556305807308419)}"
      ]
     },
     "execution_count": 36,
     "metadata": {},
     "output_type": "execute_result"
    }
   ],
   "source": [
    "funcs['Nonlinear_FNN_[1, 2, 3, 4, 5, 6, 7, 8, 9, 10, 11]_1_5.0_1']['callable'](empirical1000[0])"
   ]
  },
  {
   "cell_type": "code",
   "execution_count": null,
   "id": "b5fbc766",
   "metadata": {},
   "outputs": [],
   "source": []
  }
 ],
 "metadata": {
  "kernelspec": {
   "display_name": "pyhctsa",
   "language": "python",
   "name": "python3"
  },
  "language_info": {
   "codemirror_mode": {
    "name": "ipython",
    "version": 3
   },
   "file_extension": ".py",
   "mimetype": "text/x-python",
   "name": "python",
   "nbconvert_exporter": "python",
   "pygments_lexer": "ipython3",
   "version": "3.12.8"
  }
 },
 "nbformat": 4,
 "nbformat_minor": 5
}
