{
 "cells": [
  {
   "cell_type": "code",
   "execution_count": 1,
   "id": "c1e8a3d1",
   "metadata": {},
   "outputs": [],
   "source": [
    "import numpy as np\n",
    "import pandas as pd\n",
    "import csv\n",
    "import matplotlib.pyplot as plt\n",
    "import matlab.engine\n",
    "import pathlib"
   ]
  },
  {
   "cell_type": "code",
   "execution_count": 2,
   "id": "728c2f6b",
   "metadata": {},
   "outputs": [],
   "source": [
    "eng = matlab.engine.start_matlab()"
   ]
  },
  {
   "cell_type": "code",
   "execution_count": 3,
   "id": "fbbb64de",
   "metadata": {},
   "outputs": [],
   "source": [
    "proj_root = pathlib.Path(\"/Users/jmoo2880/Documents/hctsa\")\n",
    "eng.addpath(eng.genpath(str(proj_root)), nargout=0)"
   ]
  },
  {
   "cell_type": "code",
   "execution_count": 4,
   "id": "631907f9",
   "metadata": {},
   "outputs": [
    {
     "data": {
      "text/html": [
       "<div>\n",
       "<style scoped>\n",
       "    .dataframe tbody tr th:only-of-type {\n",
       "        vertical-align: middle;\n",
       "    }\n",
       "\n",
       "    .dataframe tbody tr th {\n",
       "        vertical-align: top;\n",
       "    }\n",
       "\n",
       "    .dataframe thead th {\n",
       "        text-align: right;\n",
       "    }\n",
       "</style>\n",
       "<table border=\"1\" class=\"dataframe\">\n",
       "  <thead>\n",
       "    <tr style=\"text-align: right;\">\n",
       "      <th></th>\n",
       "      <th>ID</th>\n",
       "      <th>Name</th>\n",
       "      <th>Keywords</th>\n",
       "      <th>Length</th>\n",
       "    </tr>\n",
       "  </thead>\n",
       "  <tbody>\n",
       "    <tr>\n",
       "      <th>0</th>\n",
       "      <td>1</td>\n",
       "      <td>NS_beta_L10000_a1_b3_2.dat</td>\n",
       "      <td>synthetic,noise,beta</td>\n",
       "      <td>10000</td>\n",
       "    </tr>\n",
       "    <tr>\n",
       "      <th>1</th>\n",
       "      <td>2</td>\n",
       "      <td>NS_beta_L10000_a4_b10_1.dat</td>\n",
       "      <td>synthetic,noise,beta</td>\n",
       "      <td>10000</td>\n",
       "    </tr>\n",
       "    <tr>\n",
       "      <th>2</th>\n",
       "      <td>3</td>\n",
       "      <td>NS_beta_L10000_a4_b3_2.dat</td>\n",
       "      <td>synthetic,noise,beta</td>\n",
       "      <td>10000</td>\n",
       "    </tr>\n",
       "    <tr>\n",
       "      <th>3</th>\n",
       "      <td>4</td>\n",
       "      <td>NS_beta_L1000_a3_b5_2.dat</td>\n",
       "      <td>synthetic,noise,beta</td>\n",
       "      <td>1000</td>\n",
       "    </tr>\n",
       "    <tr>\n",
       "      <th>4</th>\n",
       "      <td>5</td>\n",
       "      <td>NS_beta_L1000_a4_b5_2.dat</td>\n",
       "      <td>synthetic,noise,beta</td>\n",
       "      <td>1000</td>\n",
       "    </tr>\n",
       "  </tbody>\n",
       "</table>\n",
       "</div>"
      ],
      "text/plain": [
       "   ID                         Name              Keywords  Length\n",
       "0   1   NS_beta_L10000_a1_b3_2.dat  synthetic,noise,beta   10000\n",
       "1   2  NS_beta_L10000_a4_b10_1.dat  synthetic,noise,beta   10000\n",
       "2   3   NS_beta_L10000_a4_b3_2.dat  synthetic,noise,beta   10000\n",
       "3   4    NS_beta_L1000_a3_b5_2.dat  synthetic,noise,beta    1000\n",
       "4   5    NS_beta_L1000_a4_b5_2.dat  synthetic,noise,beta    1000"
      ]
     },
     "execution_count": 4,
     "metadata": {},
     "output_type": "execute_result"
    }
   ],
   "source": [
    "dset_names = pd.read_csv(\"../../empirical1000/hctsa_timeseries-info.csv\")\n",
    "dset_names.head(5)"
   ]
  },
  {
   "cell_type": "code",
   "execution_count": 5,
   "id": "b609ca13",
   "metadata": {},
   "outputs": [],
   "source": [
    "empirical1000 = []\n",
    "with open(\"../../empirical1000/hctsa_timeseries-data.csv\") as csvfile:\n",
    "    reader = csv.reader(csvfile, delimiter=',')\n",
    "    for row in reader:\n",
    "        # Convert each element from string to float (or int if appropriate)\n",
    "        try:\n",
    "            time_series = [float(value) for value in row if value != '']\n",
    "            empirical1000.append(time_series)\n",
    "        except ValueError as e:\n",
    "            print(f\"Skipping row due to conversion error: {row}\")\n",
    "            continue"
   ]
  },
  {
   "cell_type": "code",
   "execution_count": 6,
   "id": "2a69cc36",
   "metadata": {},
   "outputs": [],
   "source": [
    "from Operations.CO import StickAngles"
   ]
  },
  {
   "cell_type": "code",
   "execution_count": 12,
   "id": "b31b536a",
   "metadata": {},
   "outputs": [
    {
     "name": "stderr",
     "output_type": "stream",
     "text": [
      "/opt/anaconda3/envs/pyhctsa/lib/python3.12/site-packages/numpy/lib/_nanfunctions_impl.py:2053: RuntimeWarning: Degrees of freedom <= 0 for slice.\n",
      "  var = nanvar(a, axis=axis, dtype=dtype, out=out, ddof=ddof,\n",
      "/Users/jmoo2880/Documents/py-hctsa-project/pyhctsa/Operations/CO.py:61: RuntimeWarning: Mean of empty slice\n",
      "  out['mean_n'] = np.nanmean(angles[1])\n",
      "/opt/anaconda3/envs/pyhctsa/lib/python3.12/site-packages/numpy/lib/_nanfunctions_impl.py:1241: RuntimeWarning: Mean of empty slice\n",
      "  return np.nanmean(a, axis, out=out, keepdims=keepdims)\n",
      "/opt/anaconda3/envs/pyhctsa/lib/python3.12/site-packages/numpy/_core/fromnumeric.py:3904: RuntimeWarning: Mean of empty slice.\n",
      "  return _methods._mean(a, axis=axis, dtype=dtype,\n",
      "/opt/anaconda3/envs/pyhctsa/lib/python3.12/site-packages/numpy/_core/_methods.py:147: RuntimeWarning: invalid value encountered in scalar divide\n",
      "  ret = ret.dtype.type(ret / rcount)\n",
      "/opt/anaconda3/envs/pyhctsa/lib/python3.12/site-packages/numpy/_core/_methods.py:227: RuntimeWarning: Degrees of freedom <= 0 for slice\n",
      "  ret = _var(a, axis=axis, dtype=dtype, out=out, ddof=ddof,\n",
      "/opt/anaconda3/envs/pyhctsa/lib/python3.12/site-packages/numpy/_core/_methods.py:184: RuntimeWarning: invalid value encountered in divide\n",
      "  arrmean = um.true_divide(arrmean, div, out=arrmean,\n",
      "/opt/anaconda3/envs/pyhctsa/lib/python3.12/site-packages/numpy/_core/_methods.py:219: RuntimeWarning: invalid value encountered in scalar divide\n",
      "  ret = ret.dtype.type(ret / rcount)\n"
     ]
    }
   ],
   "source": [
    "python_out = StickAngles(empirical1000[1])"
   ]
  },
  {
   "cell_type": "code",
   "execution_count": 13,
   "id": "1f236f31",
   "metadata": {},
   "outputs": [],
   "source": [
    "ml_out = eng.CO_StickAngles(matlab.double(empirical1000[1]))"
   ]
  },
  {
   "cell_type": "code",
   "execution_count": 16,
   "id": "347b8048",
   "metadata": {},
   "outputs": [
    {
     "data": {
      "text/plain": [
       "65"
      ]
     },
     "execution_count": 16,
     "metadata": {},
     "output_type": "execute_result"
    }
   ],
   "source": [
    "len(python_out)"
   ]
  },
  {
   "cell_type": "code",
   "execution_count": 17,
   "id": "7918d2a3",
   "metadata": {},
   "outputs": [
    {
     "data": {
      "text/plain": [
       "65"
      ]
     },
     "execution_count": 17,
     "metadata": {},
     "output_type": "execute_result"
    }
   ],
   "source": [
    "len(ml_out)"
   ]
  },
  {
   "cell_type": "code",
   "execution_count": null,
   "id": "9cc0b1df",
   "metadata": {},
   "outputs": [],
   "source": [
    "vals_py = np.zeros(len(empirical1000))\n",
    "vals_ml = np.zeros(len(empirical1000))\n",
    "for i in range(len(empirical1000)):\n",
    "    python_version = CO_Add(empirical1000[i], 10, 'TimeDomain')\n",
    "    ts_ml = matlab.double(empirical1000[i])\n",
    "    matlab_version = eng.CO_AutoCorr(ts_ml, 10, 'TimeDomain')\n",
    "    vals_py[i] = python_version\n",
    "    vals_ml[i] = matlab_version"
   ]
  },
  {
   "cell_type": "code",
   "execution_count": 54,
   "id": "2e7206e0",
   "metadata": {},
   "outputs": [
    {
     "name": "stdout",
     "output_type": "stream",
     "text": [
      "Max abs diff: 2.0539125955565396e-14\n"
     ]
    }
   ],
   "source": [
    "diffs = np.abs(vals_py - vals_ml)\n",
    "print(f\"Max abs diff: {np.max(diffs)}\")"
   ]
  },
  {
   "cell_type": "code",
   "execution_count": null,
   "id": "68cede85",
   "metadata": {},
   "outputs": [],
   "source": []
  }
 ],
 "metadata": {
  "kernelspec": {
   "display_name": "pyhctsa",
   "language": "python",
   "name": "python3"
  },
  "language_info": {
   "codemirror_mode": {
    "name": "ipython",
    "version": 3
   },
   "file_extension": ".py",
   "mimetype": "text/x-python",
   "name": "python",
   "nbconvert_exporter": "python",
   "pygments_lexer": "ipython3",
   "version": "3.12.8"
  }
 },
 "nbformat": 4,
 "nbformat_minor": 5
}
